{
 "cells": [
  {
   "cell_type": "code",
   "execution_count": null,
   "id": "742e481b",
   "metadata": {},
   "outputs": [],
   "source": [
    "# Import necessary modules\n",
    "from gui import QtWindow\n",
    "from PyQt5.QtWidgets import QApplication\n",
    "import sys\n",
    "\n",
    "# Function to run the Qt application\n",
    "def run_app():\n",
    "    app = QApplication(sys.argv)\n",
    "    window = QtWindow()\n",
    "    window.show()\n",
    "    sys.exit(app.exec_())\n",
    "\n",
    "# Feature demonstration\n",
    "# Create and open the full-screen GUI window with a label.\n",
    "run_app()"
   ]
  }
 ],
 "metadata": {
  "kernelspec": {
   "display_name": "Python 3",
   "language": "python",
   "name": "python3"
  },
  "language_info": {
   "codemirror_mode": {
    "name": "ipython",
    "version": 3
   },
   "file_extension": ".py",
   "mimetype": "text/x-python",
   "name": "python",
   "nbconvert_exporter": "python",
   "pygments_lexer": "ipython3",
   "version": "3.8.5"
  }
 },
 "nbformat": 4,
 "nbformat_minor": 5
}
