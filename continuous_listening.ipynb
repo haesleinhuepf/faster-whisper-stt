{
 "cells": [
  {
   "cell_type": "code",
   "execution_count": null,
   "id": "ed55d6cd-5f26-4dfe-ba52-c33a0fc0ac07",
   "metadata": {},
   "outputs": [],
   "source": [
    "### functional transcription\n",
    "\n",
    "\n",
    "# from IPython.display import display, HTML\n",
    "import sounddevice as sd\n",
    "import numpy as np\n",
    "import queue\n",
    "from scipy.io.wavfile import write\n",
    "from faster_whisper import WhisperModel\n",
    "from ipywidgets import widgets, Layout, Button, VBox, Textarea, HBox, HTML\n",
    "from IPython.display import display, Markdown\n",
    "from utilities import audio_callback, start_recording, interrupt_recording, transcribe_audio, reset_transcription\n",
    "\n",
    "# Initialisieren des Whisper-Modells\n",
    "# model = WhisperModel(\"tiny\", device=\"cuda\")\n",
    "# model = WhisperModel(\"tiny\", device=\"cpu\")\n",
    "model = WhisperModel(\"small\", device=\"cpu\")\n",
    "\n",
    "# Audioaufnahme-Einstellungen\n",
    "sample_rate = 16000  # Sampling-Rate\n",
    "audio_queue = queue.Queue()\n",
    "\n",
    "audio_data = []\n",
    "my_text = Textarea()\n",
    "\n",
    "# callbacks & fcns\n",
    "stream = sd.InputStream(callback=audio_callback, samplerate=sample_rate, channels=1, dtype='int16')\n",
    "\n",
    "my_text"
   ]
  },
  {
   "cell_type": "code",
   "execution_count": null,
   "id": "ef0f9f1e-9c48-467b-a6d3-b599e99e37e3",
   "metadata": {},
   "outputs": [],
   "source": [
    "\n",
    "from time import sleep\n",
    "\n",
    "start_recording()\n",
    "for i in range(100):\n",
    "    sleep(0.5)\n",
    "    interrupt_recording()\n"
   ]
  },
  {
   "cell_type": "code",
   "execution_count": null,
   "id": "24286af4-8436-4119-84de-6168a381a663",
   "metadata": {},
   "outputs": [],
   "source": []
  }
 ],
 "metadata": {
  "kernelspec": {
   "display_name": "Python 3 (ipykernel)",
   "language": "python",
   "name": "python3"
  },
  "language_info": {
   "codemirror_mode": {
    "name": "ipython",
    "version": 3
   },
   "file_extension": ".py",
   "mimetype": "text/x-python",
   "name": "python",
   "nbconvert_exporter": "python",
   "pygments_lexer": "ipython3",
   "version": "3.11.9"
  }
 },
 "nbformat": 4,
 "nbformat_minor": 5
}
